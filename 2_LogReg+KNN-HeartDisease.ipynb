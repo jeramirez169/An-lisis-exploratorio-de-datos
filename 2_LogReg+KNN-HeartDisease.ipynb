{
 "cells": [
  {
   "cell_type": "markdown",
   "id": "f4099f90",
   "metadata": {},
   "source": [
    "<img src=https://audiovisuales.icesi.edu.co/assets/custom/images/ICESI_logo_prin_descriptor_RGB_POSITIVO_0924.jpg width=200>\n",
    "\n",
    "*Milton Orlando Sarria Paja, PhD.*\n",
    "\n",
    "----\n",
    "\n",
    "# Taller : enfermedades coronarias en Sudáfrica"
   ]
  },
  {
   "cell_type": "markdown",
   "id": "a1dc420f",
   "metadata": {},
   "source": [
    "El objetivo de este taller es tener un acercamiento a los modelos de clasificación de regresión logística y K-NN, utilizando como caso de estudio una población sudafricana con alto riesgo de enfermedad coronaria. El dataset, que en cada registro presenta un individuo hombre, incluye las siguientes variables:"
   ]
  },
  {
   "cell_type": "markdown",
   "id": "6169050a",
   "metadata": {},
   "source": [
    "- sbp: presión sanguínea sistólica\n",
    "- tobacco: cantidad de tabaco acumulada (en kg)\n",
    "- ldl: colesterol de lipoproteinas de baja densidad\n",
    "- adiposity: grado de tejido adiposo\n",
    "- famhist: indica si la familia del individuo tiene historia de enfermedades coronarias (“Present”) o no (“Absent”)\n",
    "- typea: comportamiento tipo A\n",
    "- obesidad: grado de obesidad\n",
    "- alcohol: consumo de alcohol actual\n",
    "- age: edad\n",
    "- chd: variable objetivo que indica si el individuo tiene enfermedad coronaria sí (1) o no (0)"
   ]
  },
  {
   "cell_type": "markdown",
   "id": "17571542",
   "metadata": {},
   "source": [
    "# 0. Librerías a importar"
   ]
  },
  {
   "cell_type": "code",
   "execution_count": 1,
   "id": "af73553e",
   "metadata": {},
   "outputs": [],
   "source": [
    "import numpy as np \n",
    "import pandas as pd \n",
    "import math\n",
    "import matplotlib.pyplot as plt\n",
    "import seaborn as sns\n",
    "import statsmodels.api as sm\n",
    "from sklearn.preprocessing import StandardScaler\n",
    "from sklearn import neighbors, metrics\n",
    "from sklearn.linear_model import LogisticRegression\n",
    "import warnings\n",
    "warnings.filterwarnings('ignore')"
   ]
  },
  {
   "cell_type": "markdown",
   "id": "ed548238",
   "metadata": {},
   "source": [
    "# 1. Cargar, explorar y preparar el dataset"
   ]
  },
  {
   "cell_type": "code",
   "execution_count": 2,
   "id": "2ec5d00f",
   "metadata": {},
   "outputs": [
    {
     "data": {
      "text/html": [
       "<div>\n",
       "<style scoped>\n",
       "    .dataframe tbody tr th:only-of-type {\n",
       "        vertical-align: middle;\n",
       "    }\n",
       "\n",
       "    .dataframe tbody tr th {\n",
       "        vertical-align: top;\n",
       "    }\n",
       "\n",
       "    .dataframe thead th {\n",
       "        text-align: right;\n",
       "    }\n",
       "</style>\n",
       "<table border=\"1\" class=\"dataframe\">\n",
       "  <thead>\n",
       "    <tr style=\"text-align: right;\">\n",
       "      <th></th>\n",
       "      <th>row.names</th>\n",
       "      <th>sbp</th>\n",
       "      <th>tobacco</th>\n",
       "      <th>ldl</th>\n",
       "      <th>adiposity</th>\n",
       "      <th>famhist</th>\n",
       "      <th>typea</th>\n",
       "      <th>obesity</th>\n",
       "      <th>alcohol</th>\n",
       "      <th>age</th>\n",
       "      <th>chd</th>\n",
       "    </tr>\n",
       "  </thead>\n",
       "  <tbody>\n",
       "    <tr>\n",
       "      <th>0</th>\n",
       "      <td>1</td>\n",
       "      <td>160</td>\n",
       "      <td>12.00</td>\n",
       "      <td>5.73</td>\n",
       "      <td>23.11</td>\n",
       "      <td>Present</td>\n",
       "      <td>49</td>\n",
       "      <td>25.30</td>\n",
       "      <td>97.20</td>\n",
       "      <td>52</td>\n",
       "      <td>1</td>\n",
       "    </tr>\n",
       "    <tr>\n",
       "      <th>1</th>\n",
       "      <td>2</td>\n",
       "      <td>144</td>\n",
       "      <td>0.01</td>\n",
       "      <td>4.41</td>\n",
       "      <td>28.61</td>\n",
       "      <td>Absent</td>\n",
       "      <td>55</td>\n",
       "      <td>28.87</td>\n",
       "      <td>2.06</td>\n",
       "      <td>63</td>\n",
       "      <td>1</td>\n",
       "    </tr>\n",
       "    <tr>\n",
       "      <th>2</th>\n",
       "      <td>3</td>\n",
       "      <td>118</td>\n",
       "      <td>0.08</td>\n",
       "      <td>3.48</td>\n",
       "      <td>32.28</td>\n",
       "      <td>Present</td>\n",
       "      <td>52</td>\n",
       "      <td>29.14</td>\n",
       "      <td>3.81</td>\n",
       "      <td>46</td>\n",
       "      <td>0</td>\n",
       "    </tr>\n",
       "    <tr>\n",
       "      <th>3</th>\n",
       "      <td>4</td>\n",
       "      <td>170</td>\n",
       "      <td>7.50</td>\n",
       "      <td>6.41</td>\n",
       "      <td>38.03</td>\n",
       "      <td>Present</td>\n",
       "      <td>51</td>\n",
       "      <td>31.99</td>\n",
       "      <td>24.26</td>\n",
       "      <td>58</td>\n",
       "      <td>1</td>\n",
       "    </tr>\n",
       "    <tr>\n",
       "      <th>4</th>\n",
       "      <td>5</td>\n",
       "      <td>134</td>\n",
       "      <td>13.60</td>\n",
       "      <td>3.50</td>\n",
       "      <td>27.78</td>\n",
       "      <td>Present</td>\n",
       "      <td>60</td>\n",
       "      <td>25.99</td>\n",
       "      <td>57.34</td>\n",
       "      <td>49</td>\n",
       "      <td>1</td>\n",
       "    </tr>\n",
       "  </tbody>\n",
       "</table>\n",
       "</div>"
      ],
      "text/plain": [
       "   row.names  sbp  tobacco   ldl  adiposity  famhist  typea  obesity  alcohol  \\\n",
       "0          1  160    12.00  5.73      23.11  Present     49    25.30    97.20   \n",
       "1          2  144     0.01  4.41      28.61   Absent     55    28.87     2.06   \n",
       "2          3  118     0.08  3.48      32.28  Present     52    29.14     3.81   \n",
       "3          4  170     7.50  6.41      38.03  Present     51    31.99    24.26   \n",
       "4          5  134    13.60  3.50      27.78  Present     60    25.99    57.34   \n",
       "\n",
       "   age  chd  \n",
       "0   52    1  \n",
       "1   63    1  \n",
       "2   46    0  \n",
       "3   58    1  \n",
       "4   49    1  "
      ]
     },
     "execution_count": 2,
     "metadata": {},
     "output_type": "execute_result"
    }
   ],
   "source": [
    "corazon = pd.read_csv('03-SAHeartDisease.csv')\n",
    "corazon.head()"
   ]
  },
  {
   "cell_type": "code",
   "execution_count": 3,
   "id": "2e781429",
   "metadata": {},
   "outputs": [
    {
     "name": "stdout",
     "output_type": "stream",
     "text": [
      "<class 'pandas.core.frame.DataFrame'>\n",
      "RangeIndex: 462 entries, 0 to 461\n",
      "Data columns (total 11 columns):\n",
      " #   Column     Non-Null Count  Dtype  \n",
      "---  ------     --------------  -----  \n",
      " 0   row.names  462 non-null    int64  \n",
      " 1   sbp        462 non-null    int64  \n",
      " 2   tobacco    462 non-null    float64\n",
      " 3   ldl        462 non-null    float64\n",
      " 4   adiposity  462 non-null    float64\n",
      " 5   famhist    462 non-null    object \n",
      " 6   typea      462 non-null    int64  \n",
      " 7   obesity    462 non-null    float64\n",
      " 8   alcohol    462 non-null    float64\n",
      " 9   age        462 non-null    int64  \n",
      " 10  chd        462 non-null    int64  \n",
      "dtypes: float64(5), int64(5), object(1)\n",
      "memory usage: 39.8+ KB\n"
     ]
    }
   ],
   "source": [
    "corazon.info()"
   ]
  },
  {
   "cell_type": "code",
   "execution_count": 4,
   "id": "dcac36d0",
   "metadata": {},
   "outputs": [
    {
     "data": {
      "text/html": [
       "<div>\n",
       "<style scoped>\n",
       "    .dataframe tbody tr th:only-of-type {\n",
       "        vertical-align: middle;\n",
       "    }\n",
       "\n",
       "    .dataframe tbody tr th {\n",
       "        vertical-align: top;\n",
       "    }\n",
       "\n",
       "    .dataframe thead th {\n",
       "        text-align: right;\n",
       "    }\n",
       "</style>\n",
       "<table border=\"1\" class=\"dataframe\">\n",
       "  <thead>\n",
       "    <tr style=\"text-align: right;\">\n",
       "      <th></th>\n",
       "      <th>row.names</th>\n",
       "      <th>sbp</th>\n",
       "      <th>tobacco</th>\n",
       "      <th>ldl</th>\n",
       "      <th>adiposity</th>\n",
       "      <th>famhist</th>\n",
       "      <th>typea</th>\n",
       "      <th>obesity</th>\n",
       "      <th>alcohol</th>\n",
       "      <th>age</th>\n",
       "      <th>chd</th>\n",
       "    </tr>\n",
       "  </thead>\n",
       "  <tbody>\n",
       "    <tr>\n",
       "      <th>count</th>\n",
       "      <td>462.000000</td>\n",
       "      <td>462.000000</td>\n",
       "      <td>462.000000</td>\n",
       "      <td>462.000000</td>\n",
       "      <td>462.000000</td>\n",
       "      <td>462</td>\n",
       "      <td>462.000000</td>\n",
       "      <td>462.000000</td>\n",
       "      <td>462.000000</td>\n",
       "      <td>462.000000</td>\n",
       "      <td>462.000000</td>\n",
       "    </tr>\n",
       "    <tr>\n",
       "      <th>unique</th>\n",
       "      <td>NaN</td>\n",
       "      <td>NaN</td>\n",
       "      <td>NaN</td>\n",
       "      <td>NaN</td>\n",
       "      <td>NaN</td>\n",
       "      <td>2</td>\n",
       "      <td>NaN</td>\n",
       "      <td>NaN</td>\n",
       "      <td>NaN</td>\n",
       "      <td>NaN</td>\n",
       "      <td>NaN</td>\n",
       "    </tr>\n",
       "    <tr>\n",
       "      <th>top</th>\n",
       "      <td>NaN</td>\n",
       "      <td>NaN</td>\n",
       "      <td>NaN</td>\n",
       "      <td>NaN</td>\n",
       "      <td>NaN</td>\n",
       "      <td>Absent</td>\n",
       "      <td>NaN</td>\n",
       "      <td>NaN</td>\n",
       "      <td>NaN</td>\n",
       "      <td>NaN</td>\n",
       "      <td>NaN</td>\n",
       "    </tr>\n",
       "    <tr>\n",
       "      <th>freq</th>\n",
       "      <td>NaN</td>\n",
       "      <td>NaN</td>\n",
       "      <td>NaN</td>\n",
       "      <td>NaN</td>\n",
       "      <td>NaN</td>\n",
       "      <td>270</td>\n",
       "      <td>NaN</td>\n",
       "      <td>NaN</td>\n",
       "      <td>NaN</td>\n",
       "      <td>NaN</td>\n",
       "      <td>NaN</td>\n",
       "    </tr>\n",
       "    <tr>\n",
       "      <th>mean</th>\n",
       "      <td>231.935065</td>\n",
       "      <td>138.326840</td>\n",
       "      <td>3.635649</td>\n",
       "      <td>4.740325</td>\n",
       "      <td>25.406732</td>\n",
       "      <td>NaN</td>\n",
       "      <td>53.103896</td>\n",
       "      <td>26.044113</td>\n",
       "      <td>17.044394</td>\n",
       "      <td>42.816017</td>\n",
       "      <td>0.346320</td>\n",
       "    </tr>\n",
       "    <tr>\n",
       "      <th>std</th>\n",
       "      <td>133.938585</td>\n",
       "      <td>20.496317</td>\n",
       "      <td>4.593024</td>\n",
       "      <td>2.070909</td>\n",
       "      <td>7.780699</td>\n",
       "      <td>NaN</td>\n",
       "      <td>9.817534</td>\n",
       "      <td>4.213680</td>\n",
       "      <td>24.481059</td>\n",
       "      <td>14.608956</td>\n",
       "      <td>0.476313</td>\n",
       "    </tr>\n",
       "    <tr>\n",
       "      <th>min</th>\n",
       "      <td>1.000000</td>\n",
       "      <td>101.000000</td>\n",
       "      <td>0.000000</td>\n",
       "      <td>0.980000</td>\n",
       "      <td>6.740000</td>\n",
       "      <td>NaN</td>\n",
       "      <td>13.000000</td>\n",
       "      <td>14.700000</td>\n",
       "      <td>0.000000</td>\n",
       "      <td>15.000000</td>\n",
       "      <td>0.000000</td>\n",
       "    </tr>\n",
       "    <tr>\n",
       "      <th>25%</th>\n",
       "      <td>116.250000</td>\n",
       "      <td>124.000000</td>\n",
       "      <td>0.052500</td>\n",
       "      <td>3.282500</td>\n",
       "      <td>19.775000</td>\n",
       "      <td>NaN</td>\n",
       "      <td>47.000000</td>\n",
       "      <td>22.985000</td>\n",
       "      <td>0.510000</td>\n",
       "      <td>31.000000</td>\n",
       "      <td>0.000000</td>\n",
       "    </tr>\n",
       "    <tr>\n",
       "      <th>50%</th>\n",
       "      <td>231.500000</td>\n",
       "      <td>134.000000</td>\n",
       "      <td>2.000000</td>\n",
       "      <td>4.340000</td>\n",
       "      <td>26.115000</td>\n",
       "      <td>NaN</td>\n",
       "      <td>53.000000</td>\n",
       "      <td>25.805000</td>\n",
       "      <td>7.510000</td>\n",
       "      <td>45.000000</td>\n",
       "      <td>0.000000</td>\n",
       "    </tr>\n",
       "    <tr>\n",
       "      <th>75%</th>\n",
       "      <td>347.750000</td>\n",
       "      <td>148.000000</td>\n",
       "      <td>5.500000</td>\n",
       "      <td>5.790000</td>\n",
       "      <td>31.227500</td>\n",
       "      <td>NaN</td>\n",
       "      <td>60.000000</td>\n",
       "      <td>28.497500</td>\n",
       "      <td>23.892500</td>\n",
       "      <td>55.000000</td>\n",
       "      <td>1.000000</td>\n",
       "    </tr>\n",
       "    <tr>\n",
       "      <th>max</th>\n",
       "      <td>463.000000</td>\n",
       "      <td>218.000000</td>\n",
       "      <td>31.200000</td>\n",
       "      <td>15.330000</td>\n",
       "      <td>42.490000</td>\n",
       "      <td>NaN</td>\n",
       "      <td>78.000000</td>\n",
       "      <td>46.580000</td>\n",
       "      <td>147.190000</td>\n",
       "      <td>64.000000</td>\n",
       "      <td>1.000000</td>\n",
       "    </tr>\n",
       "  </tbody>\n",
       "</table>\n",
       "</div>"
      ],
      "text/plain": [
       "         row.names         sbp     tobacco         ldl   adiposity famhist  \\\n",
       "count   462.000000  462.000000  462.000000  462.000000  462.000000     462   \n",
       "unique         NaN         NaN         NaN         NaN         NaN       2   \n",
       "top            NaN         NaN         NaN         NaN         NaN  Absent   \n",
       "freq           NaN         NaN         NaN         NaN         NaN     270   \n",
       "mean    231.935065  138.326840    3.635649    4.740325   25.406732     NaN   \n",
       "std     133.938585   20.496317    4.593024    2.070909    7.780699     NaN   \n",
       "min       1.000000  101.000000    0.000000    0.980000    6.740000     NaN   \n",
       "25%     116.250000  124.000000    0.052500    3.282500   19.775000     NaN   \n",
       "50%     231.500000  134.000000    2.000000    4.340000   26.115000     NaN   \n",
       "75%     347.750000  148.000000    5.500000    5.790000   31.227500     NaN   \n",
       "max     463.000000  218.000000   31.200000   15.330000   42.490000     NaN   \n",
       "\n",
       "             typea     obesity     alcohol         age         chd  \n",
       "count   462.000000  462.000000  462.000000  462.000000  462.000000  \n",
       "unique         NaN         NaN         NaN         NaN         NaN  \n",
       "top            NaN         NaN         NaN         NaN         NaN  \n",
       "freq           NaN         NaN         NaN         NaN         NaN  \n",
       "mean     53.103896   26.044113   17.044394   42.816017    0.346320  \n",
       "std       9.817534    4.213680   24.481059   14.608956    0.476313  \n",
       "min      13.000000   14.700000    0.000000   15.000000    0.000000  \n",
       "25%      47.000000   22.985000    0.510000   31.000000    0.000000  \n",
       "50%      53.000000   25.805000    7.510000   45.000000    0.000000  \n",
       "75%      60.000000   28.497500   23.892500   55.000000    1.000000  \n",
       "max      78.000000   46.580000  147.190000   64.000000    1.000000  "
      ]
     },
     "execution_count": 4,
     "metadata": {},
     "output_type": "execute_result"
    }
   ],
   "source": [
    "corazon.describe(include='all')"
   ]
  },
  {
   "cell_type": "code",
   "execution_count": 5,
   "id": "575cf5d6",
   "metadata": {},
   "outputs": [
    {
     "data": {
      "text/html": [
       "<div>\n",
       "<style scoped>\n",
       "    .dataframe tbody tr th:only-of-type {\n",
       "        vertical-align: middle;\n",
       "    }\n",
       "\n",
       "    .dataframe tbody tr th {\n",
       "        vertical-align: top;\n",
       "    }\n",
       "\n",
       "    .dataframe thead th {\n",
       "        text-align: right;\n",
       "    }\n",
       "</style>\n",
       "<table border=\"1\" class=\"dataframe\">\n",
       "  <thead>\n",
       "    <tr style=\"text-align: right;\">\n",
       "      <th></th>\n",
       "      <th>row.names</th>\n",
       "      <th>sbp</th>\n",
       "      <th>tobacco</th>\n",
       "      <th>ldl</th>\n",
       "      <th>adiposity</th>\n",
       "      <th>typea</th>\n",
       "      <th>obesity</th>\n",
       "      <th>alcohol</th>\n",
       "      <th>age</th>\n",
       "      <th>chd</th>\n",
       "    </tr>\n",
       "  </thead>\n",
       "  <tbody>\n",
       "    <tr>\n",
       "      <th>0.0</th>\n",
       "      <td>1.0</td>\n",
       "      <td>101.0</td>\n",
       "      <td>0.000</td>\n",
       "      <td>0.980</td>\n",
       "      <td>6.740</td>\n",
       "      <td>13.0</td>\n",
       "      <td>14.700</td>\n",
       "      <td>0.000</td>\n",
       "      <td>15.0</td>\n",
       "      <td>0.0</td>\n",
       "    </tr>\n",
       "    <tr>\n",
       "      <th>0.1</th>\n",
       "      <td>47.1</td>\n",
       "      <td>118.0</td>\n",
       "      <td>0.000</td>\n",
       "      <td>2.510</td>\n",
       "      <td>13.713</td>\n",
       "      <td>41.0</td>\n",
       "      <td>21.142</td>\n",
       "      <td>0.000</td>\n",
       "      <td>18.0</td>\n",
       "      <td>0.0</td>\n",
       "    </tr>\n",
       "    <tr>\n",
       "      <th>0.2</th>\n",
       "      <td>93.2</td>\n",
       "      <td>122.0</td>\n",
       "      <td>0.000</td>\n",
       "      <td>3.104</td>\n",
       "      <td>17.930</td>\n",
       "      <td>46.0</td>\n",
       "      <td>22.320</td>\n",
       "      <td>0.000</td>\n",
       "      <td>28.0</td>\n",
       "      <td>0.0</td>\n",
       "    </tr>\n",
       "    <tr>\n",
       "      <th>0.3</th>\n",
       "      <td>139.3</td>\n",
       "      <td>126.0</td>\n",
       "      <td>0.400</td>\n",
       "      <td>3.543</td>\n",
       "      <td>21.145</td>\n",
       "      <td>49.0</td>\n",
       "      <td>23.633</td>\n",
       "      <td>1.385</td>\n",
       "      <td>34.0</td>\n",
       "      <td>0.0</td>\n",
       "    </tr>\n",
       "    <tr>\n",
       "      <th>0.4</th>\n",
       "      <td>185.4</td>\n",
       "      <td>130.0</td>\n",
       "      <td>1.024</td>\n",
       "      <td>3.950</td>\n",
       "      <td>23.874</td>\n",
       "      <td>51.0</td>\n",
       "      <td>24.804</td>\n",
       "      <td>3.248</td>\n",
       "      <td>40.0</td>\n",
       "      <td>0.0</td>\n",
       "    </tr>\n",
       "    <tr>\n",
       "      <th>0.5</th>\n",
       "      <td>231.5</td>\n",
       "      <td>134.0</td>\n",
       "      <td>2.000</td>\n",
       "      <td>4.340</td>\n",
       "      <td>26.115</td>\n",
       "      <td>53.0</td>\n",
       "      <td>25.805</td>\n",
       "      <td>7.510</td>\n",
       "      <td>45.0</td>\n",
       "      <td>0.0</td>\n",
       "    </tr>\n",
       "    <tr>\n",
       "      <th>0.6</th>\n",
       "      <td>278.6</td>\n",
       "      <td>138.0</td>\n",
       "      <td>3.436</td>\n",
       "      <td>4.890</td>\n",
       "      <td>28.082</td>\n",
       "      <td>56.0</td>\n",
       "      <td>26.706</td>\n",
       "      <td>11.830</td>\n",
       "      <td>49.0</td>\n",
       "      <td>0.0</td>\n",
       "    </tr>\n",
       "    <tr>\n",
       "      <th>0.7</th>\n",
       "      <td>324.7</td>\n",
       "      <td>144.0</td>\n",
       "      <td>4.500</td>\n",
       "      <td>5.457</td>\n",
       "      <td>30.057</td>\n",
       "      <td>58.0</td>\n",
       "      <td>27.807</td>\n",
       "      <td>19.298</td>\n",
       "      <td>54.0</td>\n",
       "      <td>1.0</td>\n",
       "    </tr>\n",
       "    <tr>\n",
       "      <th>0.8</th>\n",
       "      <td>370.8</td>\n",
       "      <td>154.0</td>\n",
       "      <td>6.156</td>\n",
       "      <td>6.138</td>\n",
       "      <td>32.472</td>\n",
       "      <td>61.0</td>\n",
       "      <td>29.114</td>\n",
       "      <td>27.770</td>\n",
       "      <td>58.0</td>\n",
       "      <td>1.0</td>\n",
       "    </tr>\n",
       "    <tr>\n",
       "      <th>0.9</th>\n",
       "      <td>416.9</td>\n",
       "      <td>166.0</td>\n",
       "      <td>9.090</td>\n",
       "      <td>7.383</td>\n",
       "      <td>35.352</td>\n",
       "      <td>65.0</td>\n",
       "      <td>30.965</td>\n",
       "      <td>47.510</td>\n",
       "      <td>61.0</td>\n",
       "      <td>1.0</td>\n",
       "    </tr>\n",
       "  </tbody>\n",
       "</table>\n",
       "</div>"
      ],
      "text/plain": [
       "     row.names    sbp  tobacco    ldl  adiposity  typea  obesity  alcohol  \\\n",
       "0.0        1.0  101.0    0.000  0.980      6.740   13.0   14.700    0.000   \n",
       "0.1       47.1  118.0    0.000  2.510     13.713   41.0   21.142    0.000   \n",
       "0.2       93.2  122.0    0.000  3.104     17.930   46.0   22.320    0.000   \n",
       "0.3      139.3  126.0    0.400  3.543     21.145   49.0   23.633    1.385   \n",
       "0.4      185.4  130.0    1.024  3.950     23.874   51.0   24.804    3.248   \n",
       "0.5      231.5  134.0    2.000  4.340     26.115   53.0   25.805    7.510   \n",
       "0.6      278.6  138.0    3.436  4.890     28.082   56.0   26.706   11.830   \n",
       "0.7      324.7  144.0    4.500  5.457     30.057   58.0   27.807   19.298   \n",
       "0.8      370.8  154.0    6.156  6.138     32.472   61.0   29.114   27.770   \n",
       "0.9      416.9  166.0    9.090  7.383     35.352   65.0   30.965   47.510   \n",
       "\n",
       "      age  chd  \n",
       "0.0  15.0  0.0  \n",
       "0.1  18.0  0.0  \n",
       "0.2  28.0  0.0  \n",
       "0.3  34.0  0.0  \n",
       "0.4  40.0  0.0  \n",
       "0.5  45.0  0.0  \n",
       "0.6  49.0  0.0  \n",
       "0.7  54.0  1.0  \n",
       "0.8  58.0  1.0  \n",
       "0.9  61.0  1.0  "
      ]
     },
     "execution_count": 5,
     "metadata": {},
     "output_type": "execute_result"
    }
   ],
   "source": [
    "corazon.select_dtypes(include='number').quantile(np.arange(0,1,0.1))"
   ]
  },
  {
   "cell_type": "code",
   "execution_count": 6,
   "id": "1816c8fc",
   "metadata": {},
   "outputs": [
    {
     "data": {
      "text/html": [
       "<div>\n",
       "<style scoped>\n",
       "    .dataframe tbody tr th:only-of-type {\n",
       "        vertical-align: middle;\n",
       "    }\n",
       "\n",
       "    .dataframe tbody tr th {\n",
       "        vertical-align: top;\n",
       "    }\n",
       "\n",
       "    .dataframe thead th {\n",
       "        text-align: right;\n",
       "    }\n",
       "</style>\n",
       "<table border=\"1\" class=\"dataframe\">\n",
       "  <thead>\n",
       "    <tr style=\"text-align: right;\">\n",
       "      <th></th>\n",
       "      <th>famhist</th>\n",
       "    </tr>\n",
       "  </thead>\n",
       "  <tbody>\n",
       "    <tr>\n",
       "      <th>count</th>\n",
       "      <td>462</td>\n",
       "    </tr>\n",
       "    <tr>\n",
       "      <th>unique</th>\n",
       "      <td>2</td>\n",
       "    </tr>\n",
       "    <tr>\n",
       "      <th>top</th>\n",
       "      <td>Absent</td>\n",
       "    </tr>\n",
       "    <tr>\n",
       "      <th>freq</th>\n",
       "      <td>270</td>\n",
       "    </tr>\n",
       "  </tbody>\n",
       "</table>\n",
       "</div>"
      ],
      "text/plain": [
       "       famhist\n",
       "count      462\n",
       "unique       2\n",
       "top     Absent\n",
       "freq       270"
      ]
     },
     "execution_count": 6,
     "metadata": {},
     "output_type": "execute_result"
    }
   ],
   "source": [
    "corazon.describe(include=['O'])"
   ]
  },
  {
   "cell_type": "code",
   "execution_count": 7,
   "id": "6a781039",
   "metadata": {},
   "outputs": [
    {
     "data": {
      "text/plain": [
       "chd\n",
       "0    302\n",
       "1    160\n",
       "Name: count, dtype: int64"
      ]
     },
     "execution_count": 7,
     "metadata": {},
     "output_type": "execute_result"
    }
   ],
   "source": [
    "corazon['chd'].value_counts()"
   ]
  },
  {
   "cell_type": "code",
   "execution_count": 8,
   "id": "bc05e597",
   "metadata": {},
   "outputs": [
    {
     "data": {
      "text/plain": [
       "chd\n",
       "0    0.65368\n",
       "1    0.34632\n",
       "Name: count, dtype: float64"
      ]
     },
     "execution_count": 8,
     "metadata": {},
     "output_type": "execute_result"
    }
   ],
   "source": [
    "tab = corazon['chd'].value_counts()\n",
    "tab/tab.sum()"
   ]
  },
  {
   "cell_type": "markdown",
   "id": "750e65bb",
   "metadata": {},
   "source": [
    "### PREGUNTA: \n",
    "\n",
    "¿Qué ven de particular en los datos?\n",
    "\n",
    "\n",
    "Por un lado encontramos que la variable objetivo no está completamente balanceada (65% vs 35% de proporciones para las dos categorías). La diferencia no es, en todo caso, grave, pues hay una gran proporción de la clase minoritaria\n"
   ]
  },
  {
   "cell_type": "code",
   "execution_count": 9,
   "id": "f19e5059",
   "metadata": {},
   "outputs": [
    {
     "data": {
      "text/html": [
       "<div>\n",
       "<style scoped>\n",
       "    .dataframe tbody tr th:only-of-type {\n",
       "        vertical-align: middle;\n",
       "    }\n",
       "\n",
       "    .dataframe tbody tr th {\n",
       "        vertical-align: top;\n",
       "    }\n",
       "\n",
       "    .dataframe thead th {\n",
       "        text-align: right;\n",
       "    }\n",
       "</style>\n",
       "<table border=\"1\" class=\"dataframe\">\n",
       "  <thead>\n",
       "    <tr style=\"text-align: right;\">\n",
       "      <th></th>\n",
       "      <th>row.names</th>\n",
       "      <th>sbp</th>\n",
       "      <th>tobacco</th>\n",
       "      <th>ldl</th>\n",
       "      <th>adiposity</th>\n",
       "      <th>famhist</th>\n",
       "      <th>typea</th>\n",
       "      <th>obesity</th>\n",
       "      <th>alcohol</th>\n",
       "      <th>age</th>\n",
       "      <th>chd</th>\n",
       "    </tr>\n",
       "  </thead>\n",
       "  <tbody>\n",
       "    <tr>\n",
       "      <th>0</th>\n",
       "      <td>1</td>\n",
       "      <td>160</td>\n",
       "      <td>12.00</td>\n",
       "      <td>5.73</td>\n",
       "      <td>23.11</td>\n",
       "      <td>Present</td>\n",
       "      <td>49</td>\n",
       "      <td>25.30</td>\n",
       "      <td>97.20</td>\n",
       "      <td>52</td>\n",
       "      <td>1</td>\n",
       "    </tr>\n",
       "    <tr>\n",
       "      <th>1</th>\n",
       "      <td>2</td>\n",
       "      <td>144</td>\n",
       "      <td>0.01</td>\n",
       "      <td>4.41</td>\n",
       "      <td>28.61</td>\n",
       "      <td>Absent</td>\n",
       "      <td>55</td>\n",
       "      <td>28.87</td>\n",
       "      <td>2.06</td>\n",
       "      <td>63</td>\n",
       "      <td>1</td>\n",
       "    </tr>\n",
       "    <tr>\n",
       "      <th>2</th>\n",
       "      <td>3</td>\n",
       "      <td>118</td>\n",
       "      <td>0.08</td>\n",
       "      <td>3.48</td>\n",
       "      <td>32.28</td>\n",
       "      <td>Present</td>\n",
       "      <td>52</td>\n",
       "      <td>29.14</td>\n",
       "      <td>3.81</td>\n",
       "      <td>46</td>\n",
       "      <td>0</td>\n",
       "    </tr>\n",
       "    <tr>\n",
       "      <th>3</th>\n",
       "      <td>4</td>\n",
       "      <td>170</td>\n",
       "      <td>7.50</td>\n",
       "      <td>6.41</td>\n",
       "      <td>38.03</td>\n",
       "      <td>Present</td>\n",
       "      <td>51</td>\n",
       "      <td>31.99</td>\n",
       "      <td>24.26</td>\n",
       "      <td>58</td>\n",
       "      <td>1</td>\n",
       "    </tr>\n",
       "    <tr>\n",
       "      <th>4</th>\n",
       "      <td>5</td>\n",
       "      <td>134</td>\n",
       "      <td>13.60</td>\n",
       "      <td>3.50</td>\n",
       "      <td>27.78</td>\n",
       "      <td>Present</td>\n",
       "      <td>60</td>\n",
       "      <td>25.99</td>\n",
       "      <td>57.34</td>\n",
       "      <td>49</td>\n",
       "      <td>1</td>\n",
       "    </tr>\n",
       "    <tr>\n",
       "      <th>...</th>\n",
       "      <td>...</td>\n",
       "      <td>...</td>\n",
       "      <td>...</td>\n",
       "      <td>...</td>\n",
       "      <td>...</td>\n",
       "      <td>...</td>\n",
       "      <td>...</td>\n",
       "      <td>...</td>\n",
       "      <td>...</td>\n",
       "      <td>...</td>\n",
       "      <td>...</td>\n",
       "    </tr>\n",
       "    <tr>\n",
       "      <th>457</th>\n",
       "      <td>459</td>\n",
       "      <td>214</td>\n",
       "      <td>0.40</td>\n",
       "      <td>5.98</td>\n",
       "      <td>31.72</td>\n",
       "      <td>Absent</td>\n",
       "      <td>64</td>\n",
       "      <td>28.45</td>\n",
       "      <td>0.00</td>\n",
       "      <td>58</td>\n",
       "      <td>0</td>\n",
       "    </tr>\n",
       "    <tr>\n",
       "      <th>458</th>\n",
       "      <td>460</td>\n",
       "      <td>182</td>\n",
       "      <td>4.20</td>\n",
       "      <td>4.41</td>\n",
       "      <td>32.10</td>\n",
       "      <td>Absent</td>\n",
       "      <td>52</td>\n",
       "      <td>28.61</td>\n",
       "      <td>18.72</td>\n",
       "      <td>52</td>\n",
       "      <td>1</td>\n",
       "    </tr>\n",
       "    <tr>\n",
       "      <th>459</th>\n",
       "      <td>461</td>\n",
       "      <td>108</td>\n",
       "      <td>3.00</td>\n",
       "      <td>1.59</td>\n",
       "      <td>15.23</td>\n",
       "      <td>Absent</td>\n",
       "      <td>40</td>\n",
       "      <td>20.09</td>\n",
       "      <td>26.64</td>\n",
       "      <td>55</td>\n",
       "      <td>0</td>\n",
       "    </tr>\n",
       "    <tr>\n",
       "      <th>460</th>\n",
       "      <td>462</td>\n",
       "      <td>118</td>\n",
       "      <td>5.40</td>\n",
       "      <td>11.61</td>\n",
       "      <td>30.79</td>\n",
       "      <td>Absent</td>\n",
       "      <td>64</td>\n",
       "      <td>27.35</td>\n",
       "      <td>23.97</td>\n",
       "      <td>40</td>\n",
       "      <td>0</td>\n",
       "    </tr>\n",
       "    <tr>\n",
       "      <th>461</th>\n",
       "      <td>463</td>\n",
       "      <td>132</td>\n",
       "      <td>0.00</td>\n",
       "      <td>4.82</td>\n",
       "      <td>33.41</td>\n",
       "      <td>Present</td>\n",
       "      <td>62</td>\n",
       "      <td>14.70</td>\n",
       "      <td>0.00</td>\n",
       "      <td>46</td>\n",
       "      <td>1</td>\n",
       "    </tr>\n",
       "  </tbody>\n",
       "</table>\n",
       "<p>462 rows × 11 columns</p>\n",
       "</div>"
      ],
      "text/plain": [
       "     row.names  sbp  tobacco    ldl  adiposity  famhist  typea  obesity  \\\n",
       "0            1  160    12.00   5.73      23.11  Present     49    25.30   \n",
       "1            2  144     0.01   4.41      28.61   Absent     55    28.87   \n",
       "2            3  118     0.08   3.48      32.28  Present     52    29.14   \n",
       "3            4  170     7.50   6.41      38.03  Present     51    31.99   \n",
       "4            5  134    13.60   3.50      27.78  Present     60    25.99   \n",
       "..         ...  ...      ...    ...        ...      ...    ...      ...   \n",
       "457        459  214     0.40   5.98      31.72   Absent     64    28.45   \n",
       "458        460  182     4.20   4.41      32.10   Absent     52    28.61   \n",
       "459        461  108     3.00   1.59      15.23   Absent     40    20.09   \n",
       "460        462  118     5.40  11.61      30.79   Absent     64    27.35   \n",
       "461        463  132     0.00   4.82      33.41  Present     62    14.70   \n",
       "\n",
       "     alcohol  age  chd  \n",
       "0      97.20   52    1  \n",
       "1       2.06   63    1  \n",
       "2       3.81   46    0  \n",
       "3      24.26   58    1  \n",
       "4      57.34   49    1  \n",
       "..       ...  ...  ...  \n",
       "457     0.00   58    0  \n",
       "458    18.72   52    1  \n",
       "459    26.64   55    0  \n",
       "460    23.97   40    0  \n",
       "461     0.00   46    1  \n",
       "\n",
       "[462 rows x 11 columns]"
      ]
     },
     "execution_count": 9,
     "metadata": {},
     "output_type": "execute_result"
    }
   ],
   "source": [
    "corazon"
   ]
  },
  {
   "cell_type": "code",
   "execution_count": 10,
   "id": "18867609",
   "metadata": {},
   "outputs": [
    {
     "name": "stdout",
     "output_type": "stream",
     "text": [
      "Min ldl: 0.98, Max ldl: 15.33\n",
      "Min sbp: 101, Max sbp: 218\n"
     ]
    }
   ],
   "source": [
    "print(f\"Min ldl: {corazon['ldl'].min()}, Max ldl: {corazon['ldl'].max()}\")\n",
    "print(f\"Min sbp: {corazon['sbp'].min()}, Max sbp: {corazon['sbp'].max()}\")"
   ]
  },
  {
   "cell_type": "markdown",
   "id": "af7b7a1f",
   "metadata": {},
   "source": [
    "También vemos que las escalas de las variables numéricas son bien diferentes, con variables como ldl que van de 0.98 a 15.3 y otras como sbp que van de 101 a 218. Esto implica que, con modelos sensibles a las escalas como K-NN, es necesario reescalar los valores de las variables, para que todas tengan la misma importancia en los modelos finales. En el caso de la regresión logística, el modelo no es sensible a la escala, pero los coeficientes de las variables predictivas no podrán ser comparados directamente para entender las variables mas sensibles en la predicción de la variable dependiente.\n",
    "\n",
    "Vamos a estandarizar los datos para poder aplicar el modelo K-nn sin problemas, y poder interpretar más fácilmente los coeficientes del modelo de regresión logística."
   ]
  },
  {
   "cell_type": "code",
   "execution_count": 11,
   "id": "725fa281",
   "metadata": {},
   "outputs": [
    {
     "data": {
      "text/html": [
       "<div>\n",
       "<style scoped>\n",
       "    .dataframe tbody tr th:only-of-type {\n",
       "        vertical-align: middle;\n",
       "    }\n",
       "\n",
       "    .dataframe tbody tr th {\n",
       "        vertical-align: top;\n",
       "    }\n",
       "\n",
       "    .dataframe thead th {\n",
       "        text-align: right;\n",
       "    }\n",
       "</style>\n",
       "<table border=\"1\" class=\"dataframe\">\n",
       "  <thead>\n",
       "    <tr style=\"text-align: right;\">\n",
       "      <th></th>\n",
       "      <th>row.names</th>\n",
       "      <th>sbp</th>\n",
       "      <th>tobacco</th>\n",
       "      <th>ldl</th>\n",
       "      <th>adiposity</th>\n",
       "      <th>typea</th>\n",
       "      <th>obesity</th>\n",
       "      <th>alcohol</th>\n",
       "      <th>age</th>\n",
       "      <th>chd</th>\n",
       "    </tr>\n",
       "  </thead>\n",
       "  <tbody>\n",
       "    <tr>\n",
       "      <th>count</th>\n",
       "      <td>462.000000</td>\n",
       "      <td>4.620000e+02</td>\n",
       "      <td>4.620000e+02</td>\n",
       "      <td>4.620000e+02</td>\n",
       "      <td>4.620000e+02</td>\n",
       "      <td>4.620000e+02</td>\n",
       "      <td>4.620000e+02</td>\n",
       "      <td>4.620000e+02</td>\n",
       "      <td>4.620000e+02</td>\n",
       "      <td>4.620000e+02</td>\n",
       "    </tr>\n",
       "    <tr>\n",
       "      <th>mean</th>\n",
       "      <td>0.000000</td>\n",
       "      <td>-1.384174e-16</td>\n",
       "      <td>-2.210834e-17</td>\n",
       "      <td>3.421986e-16</td>\n",
       "      <td>1.807116e-16</td>\n",
       "      <td>-9.227828e-17</td>\n",
       "      <td>5.978863e-16</td>\n",
       "      <td>2.153160e-16</td>\n",
       "      <td>-9.612321e-18</td>\n",
       "      <td>-3.844928e-18</td>\n",
       "    </tr>\n",
       "    <tr>\n",
       "      <th>std</th>\n",
       "      <td>1.001084</td>\n",
       "      <td>1.001084e+00</td>\n",
       "      <td>1.001084e+00</td>\n",
       "      <td>1.001084e+00</td>\n",
       "      <td>1.001084e+00</td>\n",
       "      <td>1.001084e+00</td>\n",
       "      <td>1.001084e+00</td>\n",
       "      <td>1.001084e+00</td>\n",
       "      <td>1.001084e+00</td>\n",
       "      <td>1.001084e+00</td>\n",
       "    </tr>\n",
       "    <tr>\n",
       "      <th>min</th>\n",
       "      <td>-1.726055</td>\n",
       "      <td>-1.823123e+00</td>\n",
       "      <td>-7.924170e-01</td>\n",
       "      <td>-1.817753e+00</td>\n",
       "      <td>-2.401708e+00</td>\n",
       "      <td>-4.089354e+00</td>\n",
       "      <td>-2.695129e+00</td>\n",
       "      <td>-6.969825e-01</td>\n",
       "      <td>-1.906103e+00</td>\n",
       "      <td>-7.278745e-01</td>\n",
       "    </tr>\n",
       "    <tr>\n",
       "      <th>25%</th>\n",
       "      <td>-0.864654</td>\n",
       "      <td>-6.997535e-01</td>\n",
       "      <td>-7.809742e-01</td>\n",
       "      <td>-7.047170e-01</td>\n",
       "      <td>-7.245926e-01</td>\n",
       "      <td>-6.224081e-01</td>\n",
       "      <td>-7.267824e-01</td>\n",
       "      <td>-6.761275e-01</td>\n",
       "      <td>-8.096968e-01</td>\n",
       "      <td>-7.278745e-01</td>\n",
       "    </tr>\n",
       "    <tr>\n",
       "      <th>50%</th>\n",
       "      <td>-0.003252</td>\n",
       "      <td>-2.113321e-01</td>\n",
       "      <td>-3.565020e-01</td>\n",
       "      <td>-1.935182e-01</td>\n",
       "      <td>9.112757e-02</td>\n",
       "      <td>-1.059418e-02</td>\n",
       "      <td>-5.680824e-02</td>\n",
       "      <td>-3.898822e-01</td>\n",
       "      <td>1.496582e-01</td>\n",
       "      <td>-7.278745e-01</td>\n",
       "    </tr>\n",
       "    <tr>\n",
       "      <th>75%</th>\n",
       "      <td>0.865624</td>\n",
       "      <td>4.724579e-01</td>\n",
       "      <td>4.063492e-01</td>\n",
       "      <td>5.074164e-01</td>\n",
       "      <td>7.489145e-01</td>\n",
       "      <td>7.031887e-01</td>\n",
       "      <td>5.828745e-01</td>\n",
       "      <td>2.800340e-01</td>\n",
       "      <td>8.349118e-01</td>\n",
       "      <td>1.373863e+00</td>\n",
       "    </tr>\n",
       "    <tr>\n",
       "      <th>max</th>\n",
       "      <td>1.727026</td>\n",
       "      <td>3.891408e+00</td>\n",
       "      <td>6.007857e+00</td>\n",
       "      <td>5.119082e+00</td>\n",
       "      <td>2.197976e+00</td>\n",
       "      <td>2.538631e+00</td>\n",
       "      <td>4.878906e+00</td>\n",
       "      <td>5.321938e+00</td>\n",
       "      <td>1.451640e+00</td>\n",
       "      <td>1.373863e+00</td>\n",
       "    </tr>\n",
       "  </tbody>\n",
       "</table>\n",
       "</div>"
      ],
      "text/plain": [
       "        row.names           sbp       tobacco           ldl     adiposity  \\\n",
       "count  462.000000  4.620000e+02  4.620000e+02  4.620000e+02  4.620000e+02   \n",
       "mean     0.000000 -1.384174e-16 -2.210834e-17  3.421986e-16  1.807116e-16   \n",
       "std      1.001084  1.001084e+00  1.001084e+00  1.001084e+00  1.001084e+00   \n",
       "min     -1.726055 -1.823123e+00 -7.924170e-01 -1.817753e+00 -2.401708e+00   \n",
       "25%     -0.864654 -6.997535e-01 -7.809742e-01 -7.047170e-01 -7.245926e-01   \n",
       "50%     -0.003252 -2.113321e-01 -3.565020e-01 -1.935182e-01  9.112757e-02   \n",
       "75%      0.865624  4.724579e-01  4.063492e-01  5.074164e-01  7.489145e-01   \n",
       "max      1.727026  3.891408e+00  6.007857e+00  5.119082e+00  2.197976e+00   \n",
       "\n",
       "              typea       obesity       alcohol           age           chd  \n",
       "count  4.620000e+02  4.620000e+02  4.620000e+02  4.620000e+02  4.620000e+02  \n",
       "mean  -9.227828e-17  5.978863e-16  2.153160e-16 -9.612321e-18 -3.844928e-18  \n",
       "std    1.001084e+00  1.001084e+00  1.001084e+00  1.001084e+00  1.001084e+00  \n",
       "min   -4.089354e+00 -2.695129e+00 -6.969825e-01 -1.906103e+00 -7.278745e-01  \n",
       "25%   -6.224081e-01 -7.267824e-01 -6.761275e-01 -8.096968e-01 -7.278745e-01  \n",
       "50%   -1.059418e-02 -5.680824e-02 -3.898822e-01  1.496582e-01 -7.278745e-01  \n",
       "75%    7.031887e-01  5.828745e-01  2.800340e-01  8.349118e-01  1.373863e+00  \n",
       "max    2.538631e+00  4.878906e+00  5.321938e+00  1.451640e+00  1.373863e+00  "
      ]
     },
     "execution_count": 11,
     "metadata": {},
     "output_type": "execute_result"
    }
   ],
   "source": [
    "vars = corazon.columns\n",
    "numericVars = corazon.select_dtypes(include='number')\n",
    "categoricalVars = corazon.select_dtypes(include='object')\n",
    "numericVars[numericVars.columns] = StandardScaler().fit_transform(numericVars)\n",
    "corazonStd = pd.concat([numericVars,categoricalVars], axis=1)\n",
    "corazonStd.describe()"
   ]
  },
  {
   "cell_type": "markdown",
   "id": "e0c701fe",
   "metadata": {},
   "source": [
    "Vamos ahora a explorar las distribuciones de los valores de las variables numéricas del dataset a partir de un diagrama de boxplot:"
   ]
  },
  {
   "cell_type": "code",
   "execution_count": 12,
   "id": "4780c769",
   "metadata": {},
   "outputs": [
    {
     "data": {
      "text/plain": [
       "<Axes: >"
      ]
     },
     "execution_count": 12,
     "metadata": {},
     "output_type": "execute_result"
    },
    {
     "data": {
      "image/png": "[encoded data removed]",
      "text/plain": [
       "<Figure size 1500x1000 with 1 Axes>"
      ]
     },
     "metadata": {},
     "output_type": "display_data"
    }
   ],
   "source": [
    "corazonStd[numericVars.columns].boxplot(figsize=(15,10))"
   ]
  },
  {
   "cell_type": "markdown",
   "id": "c807e256",
   "metadata": {},
   "source": [
    "Encontramos que hay valores excepcionales pero no consideramos que sean anómalos, por lo que no eliminamos registros.\n",
    "\n",
    "Podemos tratar de entender la influencia de cada variable predictiva en la predicción de la variable objetivo, de manera aislada e independiente de las otras variables, a partir de un plot de densidad. Visualicemos la distribución de los valores de la variable age para los individuos con y sin problemas cardiacos:"
   ]
  },
  {
   "cell_type": "code",
   "execution_count": 13,
   "id": "f57ad80a",
   "metadata": {},
   "outputs": [
    {
     "data": {
      "text/plain": [
       "<seaborn.axisgrid.FacetGrid at 0x135e9cb90>"
      ]
     },
     "execution_count": 13,
     "metadata": {},
     "output_type": "execute_result"
    }
   ],
   "source": [
    "sns.displot(corazon,x='age',hue='chd',kind='kde',fill=True)"
   ]
  },
  {
   "cell_type": "markdown",
   "id": "40ae0b24",
   "metadata": {},
   "source": [
    "En el gráfico anterior podemos ver que las personas de mayor edad son más propensas a desarrollar enfermedades cardíacas\n",
    "\n",
    "Veamos como se comporta la variable tobacco:"
   ]
  },
  {
   "cell_type": "code",
   "execution_count": 14,
   "id": "0a553186",
   "metadata": {},
   "outputs": [
    {
     "data": {
      "text/plain": [
       "<seaborn.axisgrid.FacetGrid at 0x135c2f1d0>"
      ]
     },
     "execution_count": 14,
     "metadata": {},
     "output_type": "execute_result"
    }
   ],
   "source": [
    "sns.displot(corazon,x='tobacco',hue='chd',kind='kde',fill=True)"
   ]
  },
  {
   "cell_type": "markdown",
   "id": "5a9075eb",
   "metadata": {},
   "source": [
    "Vemos que las personas que consumen muy poco tabaco son muchísimo menos propensas a desarrollar enfermedades cardiacas, y vicecersa."
   ]
  },
  {
   "cell_type": "markdown",
   "id": "5c214b06",
   "metadata": {},
   "source": [
    "# 2. Modelo de regresión logística"
   ]
  },
  {
   "cell_type": "markdown",
   "id": "8f8a6811",
   "metadata": {},
   "source": [
    "Vale la pena recalcar el hecho de que no vamos a seguir aún ningún protocolo de evaluación que permita obtener una idea clara de las capacidades de generalización del modelo a datos diferentes a los del dataset de entrenamiento: vamos a entrenar y a evaluar el modelo sobre el mismo dataset.\n",
    "\n",
    "Utilizaremos el LogisticRegression del paquete sklearn. Algunos de los parámetros del método son los siguientes:\n",
    "- penalty: término de penalización para realizar regularización.\n",
    "- fit_intercept: para especificar si una constante (el intercepto o sesgo) se debe añadir a la función\n",
    "- random_state: establece la semilla al generador aleatorio de tal manera que los resultados sean deterministas (se puedan replicar)\n",
    "- solver: algoritmo a utilizarse en el problema de optimización\n",
    "\n",
    "Vamos a entrenar un primer modelo de regresión logística sobre el dataset, utilizando solamente la variable ldl, sobre el dataset sin estandarizar:\n",
    "\n",
    "Para ello haremos uso de la función fit a la cual le pasaremos una matriz de forma (n,m), donde n es la cantidad de muestras y m la cantidad de predictores, y un vector de etiquetas de forma (n,).\n",
    "\n",
    "Además, podemos ver los coeficientes asociados a cada variable predictiva. En este caso hay una sola variable predictiva, ldl, que presenta un coeficiente de 0.2739.\n"
   ]
  },
  {
   "cell_type": "code",
   "execution_count": 15,
   "id": "45903277",
   "metadata": {},
   "outputs": [
    {
     "data": {
      "text/plain": [
       "0.27393039730257074"
      ]
     },
     "execution_count": 15,
     "metadata": {},
     "output_type": "execute_result"
    }
   ],
   "source": [
    "X1 = pd.DataFrame(corazon['ldl'])\n",
    "y = corazon['chd']\n",
    "logReg1 = LogisticRegression(random_state=0).fit(X1,y)\n",
    "logReg1.coef_[0][0]"
   ]
  },
  {
   "cell_type": "markdown",
   "id": "30bf32b8",
   "metadata": {},
   "source": [
    "Para poder realizar las predicciones se utiliza el método predict. Se recibe como parámetro la matriz de variables independientes, aunque en este caso tan solo involucra la variable independiente ldl.\n",
    "\n",
    "Se pueden observar las primeras 5 predicciones."
   ]
  },
  {
   "cell_type": "code",
   "execution_count": 16,
   "id": "9cb591f3",
   "metadata": {},
   "outputs": [
    {
     "data": {
      "text/plain": [
       "array([0, 0, 0, 0, 0])"
      ]
     },
     "execution_count": 16,
     "metadata": {},
     "output_type": "execute_result"
    }
   ],
   "source": [
    "preds1 = logReg1.predict(X1)\n",
    "preds1[0:5]"
   ]
  },
  {
   "cell_type": "markdown",
   "id": "1ea78a8f",
   "metadata": {},
   "source": [
    "Con el método predict_proba obtenemos la probabilidad de pertenecer a cada categoría de la clase. En este caso particular podemos observar la probabilidad de que el resultado sea Si"
   ]
  },
  {
   "cell_type": "code",
   "execution_count": 17,
   "id": "102d6572",
   "metadata": {},
   "outputs": [
    {
     "data": {
      "text/plain": [
       "array([0.40240373, 0.3192876 , 0.26662717, 0.44789316, 0.26769981])"
      ]
     },
     "execution_count": 17,
     "metadata": {},
     "output_type": "execute_result"
    }
   ],
   "source": [
    "preds1_prob = logReg1.predict_proba(X1)\n",
    "preds1_prob[0:5,1]"
   ]
  },
  {
   "cell_type": "markdown",
   "id": "93a16830",
   "metadata": {},
   "source": [
    "Con el método score obtenemos la exactitud o accuracy de nuestro modelo, en este caso el 66.6%"
   ]
  },
  {
   "cell_type": "code",
   "execution_count": 18,
   "id": "1bab9004",
   "metadata": {},
   "outputs": [
    {
     "data": {
      "text/plain": [
       "0.6666666666666666"
      ]
     },
     "execution_count": 18,
     "metadata": {},
     "output_type": "execute_result"
    }
   ],
   "source": [
    "logReg1.score(X1,y)"
   ]
  },
  {
   "cell_type": "markdown",
   "id": "2a5728ae",
   "metadata": {},
   "source": [
    "En este caso, en vez de utilizar la variable ldl para implementar nuestro modelo, lo hacemos con age"
   ]
  },
  {
   "cell_type": "code",
   "execution_count": 19,
   "id": "79cd163d",
   "metadata": {},
   "outputs": [
    {
     "data": {
      "text/plain": [
       "array([0, 1, 0, 1, 0])"
      ]
     },
     "execution_count": 19,
     "metadata": {},
     "output_type": "execute_result"
    }
   ],
   "source": [
    "X2 = pd.DataFrame(corazon['age'])\n",
    "logReg2 = LogisticRegression(random_state=0).fit(X2,y)\n",
    "preds2 = logReg2.predict(X2)\n",
    "preds2[0:5]"
   ]
  },
  {
   "cell_type": "code",
   "execution_count": 20,
   "id": "9c9782b7",
   "metadata": {},
   "outputs": [
    {
     "data": {
      "text/plain": [
       "array([0.45310939, 0.6264511 , 0.36060589, 0.54896877, 0.40602432])"
      ]
     },
     "execution_count": 20,
     "metadata": {},
     "output_type": "execute_result"
    }
   ],
   "source": [
    "preds2_prob = logReg2.predict_proba(X2)\n",
    "preds2_prob[0:5,1]"
   ]
  },
  {
   "cell_type": "markdown",
   "id": "7c8871d5",
   "metadata": {},
   "source": [
    "Se tiene un mejor ajuste de acuerdo con el nivel de accuracy 67.96%"
   ]
  },
  {
   "cell_type": "code",
   "execution_count": 21,
   "id": "be84c42f",
   "metadata": {},
   "outputs": [
    {
     "data": {
      "text/plain": [
       "0.6796536796536796"
      ]
     },
     "execution_count": 21,
     "metadata": {},
     "output_type": "execute_result"
    }
   ],
   "source": [
    "logReg2.score(X2,y)"
   ]
  },
  {
   "cell_type": "markdown",
   "id": "77d4db71",
   "metadata": {},
   "source": [
    "Utilizamos en este caso todas las variables numéricas para implementar el modelo."
   ]
  },
  {
   "cell_type": "code",
   "execution_count": 22,
   "id": "8179dad2",
   "metadata": {},
   "outputs": [
    {
     "data": {
      "text/plain": [
       "array([1, 1, 0, 1, 1])"
      ]
     },
     "execution_count": 22,
     "metadata": {},
     "output_type": "execute_result"
    }
   ],
   "source": [
    "X3 = pd.DataFrame(corazon[numericVars.columns])\n",
    "y = corazon['chd']\n",
    "logReg3 = LogisticRegression(random_state=0).fit(X3,y)\n",
    "preds3 = logReg3.predict(X3)\n",
    "preds3[0:5]"
   ]
  },
  {
   "cell_type": "code",
   "execution_count": 23,
   "id": "da3a3595",
   "metadata": {},
   "outputs": [
    {
     "data": {
      "text/plain": [
       "array([0.99650879, 0.865275  , 0.00325815, 0.94709118, 0.97607211])"
      ]
     },
     "execution_count": 23,
     "metadata": {},
     "output_type": "execute_result"
    }
   ],
   "source": [
    "preds3_prob = logReg3.predict_proba(X3)\n",
    "preds3_prob[0:5,1]"
   ]
  },
  {
   "cell_type": "markdown",
   "id": "2c3308e8",
   "metadata": {},
   "source": [
    "Se obtiene un accuracy del 72.29%"
   ]
  },
  {
   "cell_type": "code",
   "execution_count": 24,
   "id": "747430f3",
   "metadata": {},
   "outputs": [
    {
     "data": {
      "text/plain": [
       "0.9783549783549783"
      ]
     },
     "execution_count": 24,
     "metadata": {},
     "output_type": "execute_result"
    }
   ],
   "source": [
    "logReg3.score(X3,y)"
   ]
  },
  {
   "cell_type": "markdown",
   "id": "f9ec8c8b",
   "metadata": {},
   "source": [
    "Utilizamos el conjunto de datos estandarizado con todas las variables numéricas"
   ]
  },
  {
   "cell_type": "code",
   "execution_count": 25,
   "id": "97b0099f",
   "metadata": {},
   "outputs": [
    {
     "data": {
      "text/plain": [
       "array([1, 1, 0, 1, 1])"
      ]
     },
     "execution_count": 25,
     "metadata": {},
     "output_type": "execute_result"
    }
   ],
   "source": [
    "X4 = pd.DataFrame(corazonStd[numericVars.columns])\n",
    "y = corazon['chd']\n",
    "logReg4 = LogisticRegression(random_state=0).fit(X4,y)\n",
    "preds4 = logReg4.predict(X4)\n",
    "preds4[0:5]"
   ]
  },
  {
   "cell_type": "code",
   "execution_count": 26,
   "id": "a21fefee",
   "metadata": {},
   "outputs": [
    {
     "data": {
      "text/plain": [
       "array([0.99179572, 0.98828993, 0.00605526, 0.99210049, 0.99095923])"
      ]
     },
     "execution_count": 26,
     "metadata": {},
     "output_type": "execute_result"
    }
   ],
   "source": [
    "preds4_prob = logReg4.predict_proba(X4)\n",
    "preds4_prob[0:5,1]"
   ]
  },
  {
   "cell_type": "markdown",
   "id": "e975afe4",
   "metadata": {},
   "source": [
    "El nivel de exactitud es un poco mejor con un 72.51%"
   ]
  },
  {
   "cell_type": "code",
   "execution_count": 27,
   "id": "24ca29e5",
   "metadata": {},
   "outputs": [
    {
     "data": {
      "text/plain": [
       "1.0"
      ]
     },
     "execution_count": 27,
     "metadata": {},
     "output_type": "execute_result"
    }
   ],
   "source": [
    "logReg4.score(X4,y)"
   ]
  },
  {
   "cell_type": "markdown",
   "id": "45c0b88d",
   "metadata": {},
   "source": [
    "# 3. Modelo KNN"
   ]
  },
  {
   "cell_type": "markdown",
   "id": "47121c84",
   "metadata": {},
   "source": [
    "Vamos a utilizar ahora el KNeighborsClassifier de sklearn. Algunos parámetros de este método son:\n",
    "\n",
    "- n_neighbors: la cantidad de vecinos a utilizar para realizar la predicción\n",
    "- algorithm: algoritmo utilizado para computar los vecinos más cercanos\n",
    "- metric: métrica para establecer la distancia entre las observaciones\n",
    "\n",
    "Vamos a entrenar un primer modelo de KNN sobre el dataset sin estandarizar. Hay que tener en cuenta que la variable famhist es categórica con dos variables, por lo que no la vamos a tener en cuenta.\n",
    "\n",
    "Vamos a considerar las primeras 362 instancias como set de entrenamieno y las últimas como set de test. Cuidado: esto se puede hacer cuando se sabe que los datos no están ordenados. Separamos las variables predictivas de la objetivo."
   ]
  },
  {
   "cell_type": "code",
   "execution_count": 28,
   "id": "94bb7b04",
   "metadata": {},
   "outputs": [
    {
     "data": {
      "text/plain": [
       "Index(['row.names', 'sbp', 'tobacco', 'ldl', 'adiposity', 'famhist', 'typea',\n",
       "       'obesity', 'alcohol', 'age', 'chd'],\n",
       "      dtype='object')"
      ]
     },
     "execution_count": 28,
     "metadata": {},
     "output_type": "execute_result"
    }
   ],
   "source": [
    "corazon.shape\n",
    "corazon.columns"
   ]
  },
  {
   "cell_type": "code",
   "execution_count": 29,
   "id": "6f36798a",
   "metadata": {},
   "outputs": [],
   "source": [
    "train_X = corazon.iloc[0:362, [0,1,2,3,4,6,7,8]]\n",
    "train_y = corazon.iloc[0:362, 9]"
   ]
  },
  {
   "cell_type": "code",
   "execution_count": 30,
   "id": "cb2af9a7",
   "metadata": {},
   "outputs": [],
   "source": [
    "test_X = corazon.iloc[362:, [0,1,2,3,4,6,7,8]]\n",
    "test_y = corazon.iloc[362:, 9]"
   ]
  },
  {
   "cell_type": "markdown",
   "id": "3788ec2f",
   "metadata": {},
   "source": [
    "Vamos ahora a predecir la clase de las instancias del test set, utilizando el modelo knn con k=5 y a compararlas con las clases reales, usando un valor de K=5"
   ]
  },
  {
   "cell_type": "code",
   "execution_count": 31,
   "id": "d4b54230",
   "metadata": {},
   "outputs": [
    {
     "name": "stdout",
     "output_type": "stream",
     "text": [
      "Con k=5 se encontraron 2 buenas predicciones\n"
     ]
    }
   ],
   "source": [
    "k = 5 \n",
    "knn = neighbors.KNeighborsClassifier(n_neighbors=k) \n",
    "knn.fit(train_X,train_y) \n",
    "preds_y = knn.predict(test_X)\n",
    "coincidencias = 0\n",
    "for i in range(len(preds_y)):\n",
    "    if(preds_y[i] ==  test_y.values[i]):\n",
    "        coincidencias+=1\n",
    "print(f\"Con k={k} se encontraron {coincidencias} buenas predicciones\")"
   ]
  },
  {
   "cell_type": "code",
   "execution_count": 32,
   "id": "c1881625",
   "metadata": {},
   "outputs": [
    {
     "name": "stdout",
     "output_type": "stream",
     "text": [
      "Con k=15 se encontraron 3 buenas predicciones\n"
     ]
    }
   ],
   "source": [
    "k = 15 \n",
    "knn = neighbors.KNeighborsClassifier(n_neighbors=k) \n",
    "knn.fit(train_X,train_y) \n",
    "preds_y = knn.predict(test_X)\n",
    "coincidencias = 0\n",
    "for i in range(len(preds_y)):\n",
    "    if(preds_y[i] ==  test_y.values[i]):\n",
    "        coincidencias+=1\n",
    "print(f\"Con k={k} se encontraron {coincidencias} buenas predicciones\")"
   ]
  },
  {
   "cell_type": "markdown",
   "id": "81f87d64",
   "metadata": {},
   "source": [
    "Vemos que nos va mejor con el modelo que utiliza un parámetro K con valor de 15."
   ]
  }
 ],
 "metadata": {
  "kernelspec": {
   "display_name": "Python 3 (ipykernel)",
   "language": "python",
   "name": "python3"
  },
  "language_info": {
   "codemirror_mode": {
    "name": "ipython",
    "version": 3
   },
   "file_extension": ".py",
   "mimetype": "text/x-python",
   "name": "python",
   "nbconvert_exporter": "python",
   "pygments_lexer": "ipython3",
   "version": "3.10.14"
  }
 },
 "nbformat": 4,
 "nbformat_minor": 5
}
