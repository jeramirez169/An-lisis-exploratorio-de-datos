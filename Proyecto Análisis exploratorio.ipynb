{
  "cells": [
    {
      "cell_type": "markdown",
      "id": "e3de80d6-6cf4-4980-8142-7633968a746f",
      "metadata": {
        "id": "e3de80d6-6cf4-4980-8142-7633968a746f"
      },
      "source": []
    },
    {
      "cell_type": "markdown",
      "id": "7f02822a",
      "metadata": {
        "id": "7f02822a"
      },
      "source": [
        "# **Predicción de usuarios del Sofi (BOT) que solicitarán atención humana**\n",
        "\n",
        "*Juan Esteban Ramírez Duran*\n",
        "\n",
        "----\n",
        "\n",
        "\n",
        "## Descripción del Problema\n",
        "\n",
        "El Bot de la Universidad ICESI es una herramienta de soporte automatizada diseñada para reducir la cantidad de consultas que requieren la intervención de un agente humano. Su objetivo es proporcionar respuestas rápidas y eficientes a preguntas frecuentes de estudiantes, docentes y personal administrativo. Sin embargo, no todas las consultas pueden resolverse a través del bot, y un porcentaje de usuarios termina solicitando asistencia humana, lo que genera carga adicional en los agentes de soporte.\n",
        "\n",
        "Actualmente, no se cuenta con un mecanismo que permita predecir cuántos usuarios requerirán atención humana, lo que puede ocasionar falta de personal disponible en momentos de alta demanda o ineficiencia en la asignación de recursos cuando hay menos consultas de lo esperado. Esto impacta negativamente en los tiempos de respuesta, la experiencia del usuario y la efectividad del bot como herramienta de soporte.\n",
        "\n",
        "## Justificación del Uso de Ciencia de Datos o IA\n",
        "\n",
        "El uso de Ciencia de Datos e Inteligencia Artificial (IA) permitirá analizar datos históricos de interacciones con el bot y detectar patrones que indiquen la probabilidad de que un usuario solicite la ayuda de un agente humano. Con esta información, la universidad podrá optimizar la disponibilidad de los agentes, mejorar la capacidad de respuesta y hacer ajustes en el bot para reducir la cantidad de consultas escaladas a atención humana.\n",
        "\n",
        "Algunas metodologías adecuadas para este análisis incluyen:\n",
        "\n",
        "**1. Regresión Logística:** Permite predecir la probabilidad de que un usuario solicite la ayuda de un agente en función de sus interacciones con el bot.\n",
        "\n",
        "**2. Clasificación con Machine Learning (Random Forest, SVM)**: Modelos supervisados que pueden identificar patrones en las interacciones que conducen a una solicitud de atención humana.\n",
        "\n",
        "##  Formulación de una Pregunta SMART\n",
        "\n",
        "¿Cuántos usuarios que interactúan con el Bot de la Universidad ICESI solicitarán ser atendidos por un agente en los próximos 30 días, considerando datos históricos de interacciones y características de la conversación?\n",
        "\n",
        "\n",
        "✅ Específica: Se enfoca en predecir cuántos usuarios solicitarán atención humana después de interactuar con el bot.\n",
        "\n",
        "✅ Medible: Se basa en datos cuantificables de interacciones previas y solicitudes de atención.\n",
        "\n",
        "✅ Accionable: Permite ajustar la cantidad de agentes disponibles, mejorar la eficiencia del bot y reducir consultas escaladas innecesariamente.\n",
        "\n",
        "✅ Realista: Utiliza datos históricos reales de consultas al bot, lo que hace factible su implementación.\n",
        "\n",
        "✅ Temporal: Se establece un horizonte de 30 días, facilitando la planificación operativa."
      ]
    },
    {
      "cell_type": "code",
      "source": [
        "import pandas as pd\n",
        "\n",
        "file_url = 'https://github.com/jeramirez169/An-lisis-exploratorio-de-datos/raw/main/SofiDataset.xlsx'"
      ],
      "metadata": {
        "collapsed": true,
        "id": "2wzAb7SClCX-"
      },
      "id": "2wzAb7SClCX-",
      "execution_count": 22,
      "outputs": []
    },
    {
      "cell_type": "code",
      "source": [
        "df = pd.read_excel(file_url)\n",
        "print(df.shape)"
      ],
      "metadata": {
        "id": "RrnfyQIO1nxo",
        "outputId": "287fd769-3167-447f-b9f4-83e15fea1bf1",
        "colab": {
          "base_uri": "https://localhost:8080/"
        }
      },
      "id": "RrnfyQIO1nxo",
      "execution_count": 23,
      "outputs": [
        {
          "output_type": "stream",
          "name": "stdout",
          "text": [
            "(107991, 25)\n"
          ]
        }
      ]
    },
    {
      "source": [
        "# The column name might be 'Id' instead of 'ID'\n",
        "df = df.drop_duplicates(subset=['Id'])\n",
        "df.shape"
      ],
      "cell_type": "code",
      "metadata": {
        "id": "r_28tVjV2nc4",
        "outputId": "72c80069-5838-48ae-f9a4-9e28394756a9",
        "colab": {
          "base_uri": "https://localhost:8080/"
        }
      },
      "id": "r_28tVjV2nc4",
      "execution_count": 24,
      "outputs": [
        {
          "output_type": "execute_result",
          "data": {
            "text/plain": [
              "(35133, 25)"
            ]
          },
          "metadata": {},
          "execution_count": 24
        }
      ]
    },
    {
      "cell_type": "code",
      "source": [
        "#Agregar columna del tipo de resolución (Por un agente o por el chat)\n",
        "df['Tipo de resolución'] = df.apply(lambda row: \"Chat\" if row['Resolución'] == \"Solo AgentBot\" else \"Agente\", axis=1)\n",
        "\n",
        "#Agregar columna del mes\n",
        "df['Mes'] = pd.to_datetime(df['Fecha']).dt.month\n",
        "\n",
        "#Quitar columna fecha\n",
        "df = df.drop(columns=['Fecha'])\n",
        "\n",
        "\n"
      ],
      "metadata": {
        "id": "PQcZVf7W2gNO"
      },
      "id": "PQcZVf7W2gNO",
      "execution_count": 25,
      "outputs": []
    },
    {
      "source": [
        "# Calcula la frecuencia de cada categoría\n",
        "tipo_resolucion_counts = df['Tipo de resolución'].value_counts()\n",
        "print(tipo_resolucion_counts)\n",
        "\n",
        "# Visualiza la distribución con un gráfico de barras\n",
        "tipo_resolucion_counts.plot(kind='bar')\n",
        "\n",
        "# Calcula la proporción de cada categoría\n",
        "tipo_resolucion_proportions = tipo_resolucion_counts / len(df)\n",
        "print(tipo_resolucion_proportions)"
      ],
      "cell_type": "code",
      "metadata": {
        "id": "YYHBUyZF8O_Z",
        "outputId": "c6410148-4c84-40cd-db63-aa095bb6b680",
        "colab": {
          "base_uri": "https://localhost:8080/",
          "height": 625
        }
      },
      "id": "YYHBUyZF8O_Z",
      "execution_count": 26,
      "outputs": [
        {
          "output_type": "stream",
          "name": "stdout",
          "text": [
            "Tipo de resolución\n",
            "Chat      24107\n",
            "Agente    11026\n",
            "Name: count, dtype: int64\n",
            "Tipo de resolución\n",
            "Chat      0.686164\n",
            "Agente    0.313836\n",
            "Name: count, dtype: float64\n"
          ]
        },
        {
          "output_type": "display_data",
          "data": {
            "text/plain": [
              "<Figure size 640x480 with 1 Axes>"
            ],
            "image/png": "[encoded data removed]"
          },
          "metadata": {}
        }
      ]
    }
  ],
  "metadata": {
    "kernelspec": {
      "display_name": "Python 3 (ipykernel)",
      "language": "python",
      "name": "python3"
    },
    "language_info": {
      "codemirror_mode": {
        "name": "ipython",
        "version": 3
      },
      "file_extension": ".py",
      "mimetype": "text/x-python",
      "name": "python",
      "nbconvert_exporter": "python",
      "pygments_lexer": "ipython3",
      "version": "3.10.14"
    },
    "colab": {
      "provenance": []
    }
  },
  "nbformat": 4,
  "nbformat_minor": 5
}