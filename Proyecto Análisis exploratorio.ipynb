{
  "cells": [
    {
      "cell_type": "markdown",
      "metadata": {
        "id": "view-in-github",
        "colab_type": "text"
      },
      "source": [
        "<a href=\"https://colab.research.google.com/github/jeramirez169/An-lisis-exploratorio-de-datos/blob/main/Proyecto%20An%C3%A1lisis%20exploratorio.ipynb\" target=\"_parent\"><img src=\"https://colab.research.google.com/assets/colab-badge.svg\" alt=\"Open In Colab\"/></a>"
      ]
    },
    {
      "cell_type": "markdown",
      "id": "e3de80d6-6cf4-4980-8142-7633968a746f",
      "metadata": {
        "id": "e3de80d6-6cf4-4980-8142-7633968a746f"
      },
      "source": []
    },
    {
      "cell_type": "markdown",
      "id": "7f02822a",
      "metadata": {
        "id": "7f02822a"
      },
      "source": [
        "# **Predicción de usuarios del Sofi (BOT) que solicitarán atención humana**\n",
        "\n",
        "*Juan Esteban Ramírez Duran*\n",
        "\n",
        "----\n",
        "\n",
        "\n",
        "## Descripción del Problema\n",
        "\n",
        "El Bot de la Universidad ICESI es una herramienta de soporte automatizada diseñada para reducir la cantidad de consultas que requieren la intervención de un agente humano. Su objetivo es proporcionar respuestas rápidas y eficientes a preguntas frecuentes de estudiantes, docentes y personal administrativo. Sin embargo, no todas las consultas pueden resolverse a través del bot, y un porcentaje de usuarios termina solicitando asistencia humana, lo que genera carga adicional en los agentes de soporte.\n",
        "\n",
        "Actualmente, no se cuenta con un mecanismo que permita predecir cuántos usuarios requerirán atención humana, lo que puede ocasionar falta de personal disponible en momentos de alta demanda o ineficiencia en la asignación de recursos cuando hay menos consultas de lo esperado. Esto impacta negativamente en los tiempos de respuesta, la experiencia del usuario y la efectividad del bot como herramienta de soporte.\n",
        "\n",
        "## Justificación del Uso de Ciencia de Datos o IA\n",
        "\n",
        "El uso de Ciencia de Datos e Inteligencia Artificial (IA) permitirá analizar datos históricos de interacciones con el bot y detectar patrones que indiquen la probabilidad de que un usuario solicite la ayuda de un agente humano. Con esta información, la universidad podrá optimizar la disponibilidad de los agentes, mejorar la capacidad de respuesta y hacer ajustes en el bot para reducir la cantidad de consultas escaladas a atención humana.\n",
        "\n",
        "Algunas metodologías adecuadas para este análisis incluyen:\n",
        "\n",
        "**1. Regresión Logística:** Permite predecir la probabilidad de que un usuario solicite la ayuda de un agente en función de sus interacciones con el bot.\n",
        "\n",
        "**2. Clasificación con Machine Learning (Random Forest, SVM)**: Modelos supervisados que pueden identificar patrones en las interacciones que conducen a una solicitud de atención humana.\n",
        "\n",
        "##  Formulación de una Pregunta SMART\n",
        "\n",
        "¿Cuántos usuarios que interactúan con el Bot de la Universidad ICESI solicitarán ser atendidos por un agente en los próximos 30 días, considerando datos históricos de interacciones y características de la conversación?\n",
        "\n",
        "\n",
        "✅ Específica: Se enfoca en predecir cuántos usuarios solicitarán atención humana después de interactuar con el bot.\n",
        "\n",
        "✅ Medible: Se basa en datos cuantificables de interacciones previas y solicitudes de atención.\n",
        "\n",
        "✅ Accionable: Permite ajustar la cantidad de agentes disponibles, mejorar la eficiencia del bot y reducir consultas escaladas innecesariamente.\n",
        "\n",
        "✅ Realista: Utiliza datos históricos reales de consultas al bot, lo que hace factible su implementación.\n",
        "\n",
        "✅ Temporal: Se establece un horizonte de 30 días, facilitando la planificación operativa."
      ]
    },
    {
      "cell_type": "code",
      "source": [],
      "metadata": {
        "id": "2wzAb7SClCX-"
      },
      "id": "2wzAb7SClCX-",
      "execution_count": null,
      "outputs": []
    }
  ],
  "metadata": {
    "kernelspec": {
      "display_name": "Python 3 (ipykernel)",
      "language": "python",
      "name": "python3"
    },
    "language_info": {
      "codemirror_mode": {
        "name": "ipython",
        "version": 3
      },
      "file_extension": ".py",
      "mimetype": "text/x-python",
      "name": "python",
      "nbconvert_exporter": "python",
      "pygments_lexer": "ipython3",
      "version": "3.10.14"
    },
    "colab": {
      "provenance": [],
      "include_colab_link": true
    }
  },
  "nbformat": 4,
  "nbformat_minor": 5
}