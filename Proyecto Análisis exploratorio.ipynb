{
 "cells": [
  {
   "cell_type": "markdown",
   "id": "e3de80d6-6cf4-4980-8142-7633968a746f",
   "metadata": {},
   "source": []
  },
  {
   "cell_type": "markdown",
   "id": "7f02822a",
   "metadata": {},
   "source": [
    "# **Predicción de Carga de Trabajo en Syri**\n",
    "\n",
    "*Juan Esteban Ramírez Duran*\n",
    "\n",
    "----\n",
    "\n",
    "\n",
    "## Descripción del Problema\n",
    "\n",
    "Las oficinas de soporte en servicios tecnologicos Syri de la Universidad Icesi, enfrentan fluctuaciones en la cantidad de casos reportados, lo que dificulta la asignación eficiente de personal y recursos. En períodos críticos como inscripciones, exámenes y el inicio de semestres, la demanda aumenta significativamente y varía entre oficinas, lo que puede generar sobrecarga de trabajo en algunas áreas. Actualmente, no se cuenta con un mecanismo predictivo que permita prever el volumen de casos por oficina, afectando la capacidad de respuesta y la satisfacción de los usuarios. Implementar una solución predictiva permitirá optimizar la distribución del personal y mejorar los tiempos de atención.\n",
    "\n",
    "## Justificación del Uso de Ciencia de Datos o IA\n",
    "\n",
    "El uso de Ciencia de Datos e Inteligencia Artificial (IA) permitirá analizar datos históricos y detectar patrones en la demanda de soporte de SIRY. A través de técnicas de predicción, es posible anticipar el número de casos que se reportarán en un período determinado, facilitando la asignación eficiente de personal y la toma generar estrategias para mejorar el servicio en dichos periodos.\n",
    "\n",
    "Algunas metodologías adecuadas para este análisis incluyen:\n",
    "\n",
    "**Regresión Lineal:** Modelo supervisado que permite predecir el número de casos en función de variables como el día de la semana, eventos académicos y tendencias históricas.\n",
    "\n",
    "##  Formulación de una Pregunta SMART\n",
    "\n",
    "¿Cuántos casos de soporte se reportarán en cada oficina de Syri en los próximos 7 días, considerando datos históricos de incidencias y eventos académicos relevantes?\n",
    "\n",
    "✅ Específica: Se enfoca en predecir el número de casos en cada oficina de Syri.\n",
    "\n",
    "✅ Medible: Se basa en datos cuantificables de reportes históricos de cada oficina.\n",
    "\n",
    "✅ Accionable: La predicción permitirá asignar recursos y optimizar la distribución del personal.\n",
    "\n",
    "✅ Realista: Utiliza datos históricos reales de la universidad, lo que hace factible su implementación.\n",
    "\n",
    "✅ Temporal: Se establece un horizonte de 7 días, facilitando la planificación operativa.\n"
   ]
  }
 ],
 "metadata": {
  "kernelspec": {
   "display_name": "Python 3 (ipykernel)",
   "language": "python",
   "name": "python3"
  },
  "language_info": {
   "codemirror_mode": {
    "name": "ipython",
    "version": 3
   },
   "file_extension": ".py",
   "mimetype": "text/x-python",
   "name": "python",
   "nbconvert_exporter": "python",
   "pygments_lexer": "ipython3",
   "version": "3.10.14"
  }
 },
 "nbformat": 4,
 "nbformat_minor": 5
}
